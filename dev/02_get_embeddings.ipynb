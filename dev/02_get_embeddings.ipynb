{
 "cells": [
  {
   "cell_type": "code",
   "execution_count": 1,
   "id": "55cff243-aeb0-497e-8da2-90e5298b0c49",
   "metadata": {},
   "outputs": [],
   "source": [
    "import pandas as pd\n",
    "import numpy as np\n",
    "from openai import OpenAI\n",
    "import joblib\n",
    "from tqdm.notebook import tqdm\n",
    "from glob import glob\n",
    "import pickle\n",
    "from os import path\n",
    "from unicodedata import normalize"
   ]
  },
  {
   "cell_type": "code",
   "execution_count": 2,
   "id": "47c0949c-8fec-4f13-ab4a-1d4c2df8391a",
   "metadata": {},
   "outputs": [],
   "source": [
    "path_name = '/home/crazyjeannot/Documents/doctorat/AVENTURES/corpus/1000_chunks_txt/*.txt'\n",
    "path_test = '/home/crazyjeannot/Documents/doctorat/AVENTURES/corpus/test_chunks_txt/*.txt'\n",
    "path_chunk = '/home/crazyjeannot/Documents/doctorat/AVENTURES/corpus/all_chunks_txt/1908_Rolland-Romain_Jean-Christophe_Tome-VII-Dans-la-maison.txt_chunk_43.txt'"
   ]
  },
  {
   "cell_type": "code",
   "execution_count": 3,
   "id": "5421f1dc-db25-4cac-8512-51fcf477fc2d",
   "metadata": {},
   "outputs": [],
   "source": [
    "path_verne = '/home/crazyjeannot/Documents/doctorat/AVENTURES/corpus/verne_txt/*.txt'\n",
    "path_flaubert = \"/home/crazyjeannot/Documents/doctorat/AVENTURES/corpus/flaubert_txt/*.txt\""
   ]
  },
  {
   "cell_type": "code",
   "execution_count": 4,
   "id": "fe2d781d-5782-4a4a-ba76-d8777a86feca",
   "metadata": {},
   "outputs": [],
   "source": [
    "def clean_text(txt):\n",
    "    txt_res = normalize(\"NFKD\", txt).replace('\\xa0', ' ')\n",
    "    txt_res = txt_res.replace(\"\\\\\", \"\").replace('\\\\xa0', '')\n",
    "    return txt_res"
   ]
  },
  {
   "cell_type": "code",
   "execution_count": 1,
   "id": "eca697e5-653d-422e-a635-3096119b64bc",
   "metadata": {},
   "outputs": [],
   "source": [
    "def gpt_embeddings(chunk):\n",
    "    client = OpenAI(\n",
    "        api_key=\"[OPEN-AI-KEY]\",\n",
    "    )\n",
    "\n",
    "    text = chunk.replace(\"\\n\", \" \")\n",
    "    embedding = client.embeddings.create(input = [text], model=\"text-embedding-ada-002\").data[0].embedding\n",
    "    \n",
    "    return embedding\n"
   ]
  },
  {
   "cell_type": "code",
   "execution_count": 7,
   "id": "90f0a53f-fefb-48c5-bb92-31f242d86b2e",
   "metadata": {},
   "outputs": [],
   "source": [
    "def get_embeddings(path_name):\n",
    "    columns_df = ['doc']+[i for i in range(0,1536)]\n",
    "    df_main = pd.DataFrame(columns=columns_df)\n",
    "\n",
    "    for doc in tqdm(glob(path_name)):\n",
    "        doc_name = path.splitext(path.basename(doc))[0]\n",
    "        with open(doc, encoding=\"utf8\") as file:\n",
    "            text = file.readlines()\n",
    "            text_cleaned = clean_text(str(text).lower())\n",
    "            embedding = gpt_embeddings(text_cleaned)\n",
    "\n",
    "            new_row_data = [doc_name] + embedding\n",
    "            new_row_df = pd.DataFrame([new_row_data], columns=columns_df)\n",
    "\n",
    "            df_main = pd.concat([df_main, new_row_df], ignore_index=True)\n",
    "            \n",
    "            df_temp = df_main.set_index('doc')\n",
    "            df_temp.to_csv('GPT_flaubert_EMBEDDINGS_OUTPUT_TEMP.csv')\n",
    "    \n",
    "    df_main.set_index('doc', inplace=True)\n",
    "    df_main.to_csv('GPT_flaubert_EMBEDDINGS_OUTPUT_MAIN.csv')\n",
    "    \n",
    "    return df_main"
   ]
  },
  {
   "cell_type": "code",
   "execution_count": 8,
   "id": "c50e9128-e9cd-4f70-ad02-2033a10c5d2a",
   "metadata": {},
   "outputs": [
    {
     "data": {
      "application/vnd.jupyter.widget-view+json": {
       "model_id": "ea41411bd41b4336a9915df35246791a",
       "version_major": 2,
       "version_minor": 0
      },
      "text/plain": [
       "  0%|          | 0/153 [00:00<?, ?it/s]"
      ]
     },
     "metadata": {},
     "output_type": "display_data"
    }
   ],
   "source": [
    "df_embeddings = get_embeddings(path_flaubert)"
   ]
  },
  {
   "cell_type": "code",
   "execution_count": null,
   "id": "6f70f6ca-f2de-4b3d-aa29-2a94520f0c09",
   "metadata": {},
   "outputs": [],
   "source": [
    "df_embeddings.to_csv('EMBEDDINGS_CHAPITRES_RANDOM.csv', index=True, header=True)"
   ]
  },
  {
   "cell_type": "code",
   "execution_count": null,
   "id": "5455ab4f-e2b9-4b5f-97a8-811c7f18b14c",
   "metadata": {},
   "outputs": [],
   "source": []
  }
 ],
 "metadata": {
  "kernelspec": {
   "display_name": "Python 3 (ipykernel)",
   "language": "python",
   "name": "python3"
  },
  "language_info": {
   "codemirror_mode": {
    "name": "ipython",
    "version": 3
   },
   "file_extension": ".py",
   "mimetype": "text/x-python",
   "name": "python",
   "nbconvert_exporter": "python",
   "pygments_lexer": "ipython3",
   "version": "3.10.12"
  }
 },
 "nbformat": 4,
 "nbformat_minor": 5
}
