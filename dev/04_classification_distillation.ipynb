{
 "cells": [
  {
   "cell_type": "code",
   "execution_count": 1,
   "id": "cec92b05-dfd2-4737-9486-4cea8ba79e73",
   "metadata": {},
   "outputs": [],
   "source": [
    "import pandas as pd\n",
    "import numpy as np\n",
    "from tqdm.notebook import tqdm \n",
    "\n",
    "from sklearn.ensemble import RandomForestClassifier, HistGradientBoostingClassifier\n",
    "from sklearn.model_selection import train_test_split\n",
    "from sklearn.metrics import classification_report, accuracy_score\n",
    "from sklearn.preprocessing import Normalizer, StandardScaler\n",
    "from sklearn.pipeline import make_pipeline\n",
    "from sklearn.svm import SVC"
   ]
  },
  {
   "cell_type": "code",
   "execution_count": 2,
   "id": "b2596d7a-4f9b-4638-b3b6-0c7240ccce14",
   "metadata": {},
   "outputs": [],
   "source": [
    "df = pd.read_csv('/home/crazyjeannot/Documents/doctorat/AVENTURES/data/metadata/GPT_ANNOT_OUTPUT_MAIN.csv')\n",
    "df.set_index('doc', inplace=True)"
   ]
  },
  {
   "cell_type": "code",
   "execution_count": 3,
   "id": "dcf3a98e-2599-40e1-b389-90c983f43777",
   "metadata": {},
   "outputs": [],
   "source": [
    "def classification(df, N_sample=10):\n",
    "    all_accuracy = []\n",
    "    for i in tqdm(range(N_sample)):\n",
    "        X_train, X_test, y_train, y_test = train_test_split(\n",
    "            df.drop(['label'], axis=1), df['label'], test_size=0.2#, random_state=42\n",
    "        )\n",
    "\n",
    "        pipe = make_pipeline(StandardScaler(), SVC(probability=True))\n",
    "\n",
    "        pipe.fit(X_train, y_train) # clf\n",
    "        preds = pipe.predict(X_test)\n",
    "        probas = pipe.predict_proba(X_test)\n",
    "\n",
    "        accuracy = accuracy_score(y_test, preds)\n",
    "        report = classification_report(y_test, preds)\n",
    "        #print(report)\n",
    "        print(accuracy)\n",
    "        all_accuracy.append(accuracy)\n",
    "    print(sum(all_accuracy)/len(all_accuracy))\n",
    "    return pipe, accuracy"
   ]
  },
  {
   "cell_type": "markdown",
   "id": "abd2f47f-5153-4bab-9ea1-cc327771773c",
   "metadata": {},
   "source": [
    "# EMBEDDINGS ALL"
   ]
  },
  {
   "cell_type": "code",
   "execution_count": 102,
   "id": "6676c1c0-1559-425c-abed-b21a11d7f2b6",
   "metadata": {},
   "outputs": [],
   "source": [
    "df_all_embeddings = pd.read_csv('/home/crazyjeannot/Documents/doctorat/AVENTURES/data/GPT_EMBEDDINGS_OUTPUT_MAIN.csv')\n",
    "df_all_embeddings.set_index('doc', inplace=True)"
   ]
  },
  {
   "cell_type": "code",
   "execution_count": 103,
   "id": "c8321d53-b3d0-4ee8-8b77-6d1c2152d55c",
   "metadata": {},
   "outputs": [],
   "source": [
    "df_merged = pd.merge(df_all_embeddings, df, left_index=True, right_index=True, how='left')"
   ]
  },
  {
   "cell_type": "code",
   "execution_count": 104,
   "id": "b18d9da1-a10f-408d-806f-cd729a39a2cd",
   "metadata": {},
   "outputs": [
    {
     "data": {
      "application/vnd.jupyter.widget-view+json": {
       "model_id": "30de0b2e345e47468c9705b5458ae822",
       "version_major": 2,
       "version_minor": 0
      },
      "text/plain": [
       "  0%|          | 0/10 [00:00<?, ?it/s]"
      ]
     },
     "metadata": {},
     "output_type": "display_data"
    },
    {
     "name": "stdout",
     "output_type": "stream",
     "text": [
      "0.855\n",
      "0.84\n",
      "0.835\n",
      "0.87\n",
      "0.82\n",
      "0.84\n",
      "0.825\n",
      "0.795\n",
      "0.865\n",
      "0.82\n",
      "0.8365\n"
     ]
    }
   ],
   "source": [
    "pipe, acc = classification(df_merged)"
   ]
  },
  {
   "cell_type": "code",
   "execution_count": null,
   "id": "9721b2d9-1ae2-4127-a823-749cfd3426c7",
   "metadata": {},
   "outputs": [],
   "source": []
  },
  {
   "cell_type": "markdown",
   "id": "2619e641-e9f0-4353-ac42-706ce50b1af5",
   "metadata": {},
   "source": [
    "### DOC2VEC EMBEDDINGS"
   ]
  },
  {
   "cell_type": "code",
   "execution_count": 6,
   "id": "0ad8633d-34d7-4e51-b2c0-7d364a09c10d",
   "metadata": {},
   "outputs": [],
   "source": [
    "df_all_embeddings = pd.read_csv('/home/crazyjeannot/Documents/doctorat/AVENTURES/data/DOC2VEC_EMBEDDINGS_OUTPUT_MAIN.csv')\n",
    "df_all_embeddings.set_index('doc', inplace=True)"
   ]
  },
  {
   "cell_type": "code",
   "execution_count": 8,
   "id": "bbbe6064-1669-4a1e-8746-3dda662c4f98",
   "metadata": {},
   "outputs": [],
   "source": [
    "df_merged = pd.merge(df_all_embeddings, df, left_index=True, right_index=True, how='left')"
   ]
  },
  {
   "cell_type": "code",
   "execution_count": 11,
   "id": "f911448f-471d-400e-87e0-ea17292d32b7",
   "metadata": {},
   "outputs": [
    {
     "data": {
      "application/vnd.jupyter.widget-view+json": {
       "model_id": "4e4a7bf8166b4391830e5488372c1edd",
       "version_major": 2,
       "version_minor": 0
      },
      "text/plain": [
       "  0%|          | 0/10 [00:00<?, ?it/s]"
      ]
     },
     "metadata": {},
     "output_type": "display_data"
    },
    {
     "name": "stdout",
     "output_type": "stream",
     "text": [
      "0.835\n",
      "0.81\n",
      "0.785\n",
      "0.82\n",
      "0.79\n",
      "0.82\n",
      "0.82\n",
      "0.815\n",
      "0.83\n",
      "0.815\n",
      "0.8140000000000001\n"
     ]
    }
   ],
   "source": [
    "pipe, acc = classification(df_merged)"
   ]
  },
  {
   "cell_type": "code",
   "execution_count": null,
   "id": "e1ca235c-f55b-4035-8345-d256476144d6",
   "metadata": {},
   "outputs": [],
   "source": []
  },
  {
   "cell_type": "markdown",
   "id": "08a6731f-ebfb-48e6-a8ba-72e518982274",
   "metadata": {},
   "source": [
    "## Get Vingt Mille Lieux sous la mer - inferences"
   ]
  },
  {
   "cell_type": "code",
   "execution_count": 17,
   "id": "132efbd1-9018-49bf-8402-39ded21c3758",
   "metadata": {},
   "outputs": [],
   "source": [
    "df_main = pd.read_csv('GPT_verne_EMBEDDINGS_OUTPUT_MAIN.csv')\n",
    "df_main.set_index(['doc'], inplace=True)"
   ]
  },
  {
   "cell_type": "code",
   "execution_count": 18,
   "id": "cb0cf584-7794-4bb7-bb83-3889dbe0b675",
   "metadata": {},
   "outputs": [],
   "source": [
    "preds = pipe.predict(df_main)\n",
    "probas = pipe.predict_proba(df_main)"
   ]
  },
  {
   "cell_type": "code",
   "execution_count": 22,
   "id": "72ecfcdf-80dd-40a3-a8d4-e212f58bcde2",
   "metadata": {},
   "outputs": [],
   "source": [
    "proba_A, proba_nonA = [proba[0] for proba in probas], [proba[1] for proba in probas]"
   ]
  },
  {
   "cell_type": "code",
   "execution_count": 23,
   "id": "f2fab050-bbdc-4ed6-83ed-081923c3cfa2",
   "metadata": {},
   "outputs": [],
   "source": [
    "zipped = list(zip(list(df_main.index), preds, proba_A, proba_nonA))"
   ]
  },
  {
   "cell_type": "code",
   "execution_count": 25,
   "id": "5ec28855-68ce-4489-951e-4e023418b3c0",
   "metadata": {},
   "outputs": [],
   "source": [
    "df_verne = pd.DataFrame(zipped, columns=['Index', 'Preds', 'Proba_A', 'Proba_nonA'])"
   ]
  },
  {
   "cell_type": "code",
   "execution_count": 28,
   "id": "0c84a828-b51e-4632-bf1b-1cc71f31340e",
   "metadata": {},
   "outputs": [],
   "source": [
    "df_verne.to_csv('preds_Vingt_Milles_Lieux.csv', index=False, header=True)"
   ]
  },
  {
   "cell_type": "markdown",
   "id": "8113f6c9-b5d1-44b6-9a62-133f907a5142",
   "metadata": {},
   "source": [
    "## Get l'education sentimentale - inferences"
   ]
  },
  {
   "cell_type": "code",
   "execution_count": 55,
   "id": "cbdea500-13b0-4bb1-a3a5-bbb39bfc3b9e",
   "metadata": {},
   "outputs": [],
   "source": [
    "df_main = pd.read_csv('GPT_flaubert_EMBEDDINGS_OUTPUT_MAIN.csv')\n",
    "df_main.set_index(['doc'], inplace=True)"
   ]
  },
  {
   "cell_type": "code",
   "execution_count": 56,
   "id": "a452bcb0-ebd2-41e8-adbc-58a23563313c",
   "metadata": {},
   "outputs": [],
   "source": [
    "preds = pipe.predict(df_main)\n",
    "probas = pipe.predict_proba(df_main)"
   ]
  },
  {
   "cell_type": "code",
   "execution_count": 57,
   "id": "5aafe5a6-37fd-4bfb-a032-1e7f10c6e362",
   "metadata": {},
   "outputs": [],
   "source": [
    "proba_A, proba_nonA = [proba[0] for proba in probas], [proba[1] for proba in probas]"
   ]
  },
  {
   "cell_type": "code",
   "execution_count": 58,
   "id": "6fdb10bf-4545-4f33-8336-86462b580ac6",
   "metadata": {},
   "outputs": [],
   "source": [
    "zipped = list(zip(list(df_main.index), preds, proba_A, proba_nonA))"
   ]
  },
  {
   "cell_type": "code",
   "execution_count": 59,
   "id": "e5dd70ac-da2f-4bf6-bcae-f4585c760e62",
   "metadata": {},
   "outputs": [],
   "source": [
    "df_flaubert = pd.DataFrame(zipped, columns=['Index', 'Preds', 'Proba_A', 'Proba_nonA'])"
   ]
  },
  {
   "cell_type": "code",
   "execution_count": 60,
   "id": "bbbefab4-5be6-43e7-b51f-5295f5650e41",
   "metadata": {},
   "outputs": [],
   "source": [
    "df_flaubert.to_csv('preds_Education.csv', index=False, header=True)"
   ]
  },
  {
   "cell_type": "markdown",
   "id": "3e2dacce-9864-4a54-ab98-20507c33c851",
   "metadata": {},
   "source": [
    "### Get 10000 random chunks score"
   ]
  },
  {
   "cell_type": "code",
   "execution_count": 137,
   "id": "ca08d30a-3e2a-4d05-8040-f53cc8a8e803",
   "metadata": {},
   "outputs": [],
   "source": [
    "df_main = pd.read_csv('../data/EMBEDDINGS_CHAPITRES_RANDOM.csv')\n",
    "df_main.set_index(['doc'], inplace=True)"
   ]
  },
  {
   "cell_type": "code",
   "execution_count": 138,
   "id": "bd7b82ee-efd3-4643-80c3-85616e18b09a",
   "metadata": {},
   "outputs": [],
   "source": [
    "preds = pipe2.predict(df_main)\n",
    "probas = pipe2.predict_proba(df_main)"
   ]
  },
  {
   "cell_type": "code",
   "execution_count": 139,
   "id": "bc8b1992-7dc8-4f75-a390-194754eb6f37",
   "metadata": {},
   "outputs": [],
   "source": [
    "proba_A, proba_nonA = [proba[0] for proba in probas], [proba[1] for proba in probas]"
   ]
  },
  {
   "cell_type": "code",
   "execution_count": 140,
   "id": "c4bf66e9-37ae-4a16-8bc4-7da655d9f86e",
   "metadata": {},
   "outputs": [],
   "source": [
    "zipped = list(zip(list(df_main.index), preds, proba_A, proba_nonA))"
   ]
  },
  {
   "cell_type": "code",
   "execution_count": 141,
   "id": "9e10488c-8d6b-43cf-84eb-3cce404e8536",
   "metadata": {},
   "outputs": [],
   "source": [
    "df_10000 = pd.DataFrame(zipped, columns=['Index', 'Preds', 'Proba_A', 'Proba_nonA'])"
   ]
  },
  {
   "cell_type": "code",
   "execution_count": 142,
   "id": "cfb046f8-99d8-4f13-9560-231c60b0b521",
   "metadata": {},
   "outputs": [],
   "source": [
    "df_10000.to_csv('preds_10000.csv', index=False, header=True)"
   ]
  },
  {
   "cell_type": "code",
   "execution_count": 144,
   "id": "1549a106-db72-4972-84a6-1c3f206f5fad",
   "metadata": {},
   "outputs": [
    {
     "data": {
      "text/plain": [
       "Preds\n",
       "NON_ADVENTURE    7787\n",
       "ADVENTURE        2213\n",
       "Name: count, dtype: int64"
      ]
     },
     "execution_count": 144,
     "metadata": {},
     "output_type": "execute_result"
    }
   ],
   "source": [
    "df_10000.Preds.value_counts()"
   ]
  },
  {
   "cell_type": "markdown",
   "id": "3e48f8f4-799c-42d6-aba4-13cd016d5e09",
   "metadata": {},
   "source": [
    "# EMBEDDINGS BOOKNLP"
   ]
  },
  {
   "cell_type": "code",
   "execution_count": 105,
   "id": "2d68b3d7-2527-494c-802c-c0fffef9c536",
   "metadata": {},
   "outputs": [],
   "source": [
    "df_booknlp = pd.read_csv('../data/GPT_EMBEDDINGS_1000_BOOKNLP_OUTPUT_MAIN.csv')\n",
    "df_booknlp.set_index('doc', inplace=True)"
   ]
  },
  {
   "cell_type": "code",
   "execution_count": 106,
   "id": "f86db2c7-ca4c-4a7d-a91e-534d1ab7a79f",
   "metadata": {},
   "outputs": [],
   "source": [
    "df_merged_booknlp = pd.merge(df_booknlp, df, left_index=True, right_index=True, how='left')"
   ]
  },
  {
   "cell_type": "code",
   "execution_count": 107,
   "id": "095b0e73-d5c3-4502-b1c6-1e4ac00ee4f8",
   "metadata": {},
   "outputs": [
    {
     "data": {
      "application/vnd.jupyter.widget-view+json": {
       "model_id": "d931dd27320b4bc99ab050d59a757093",
       "version_major": 2,
       "version_minor": 0
      },
      "text/plain": [
       "  0%|          | 0/10 [00:00<?, ?it/s]"
      ]
     },
     "metadata": {},
     "output_type": "display_data"
    },
    {
     "name": "stdout",
     "output_type": "stream",
     "text": [
      "0.8170731707317073\n",
      "0.7682926829268293\n",
      "0.7621951219512195\n",
      "0.7621951219512195\n",
      "0.7865853658536586\n",
      "0.7317073170731707\n",
      "0.7987804878048781\n",
      "0.7682926829268293\n",
      "0.7987804878048781\n",
      "0.7621951219512195\n",
      "0.775609756097561\n"
     ]
    }
   ],
   "source": [
    "pipe_booknlp, acc_booknlp = classification(df_merged_booknlp)"
   ]
  },
  {
   "cell_type": "markdown",
   "id": "45a2059d-3671-48e8-86af-d2dcacfc0f92",
   "metadata": {},
   "source": [
    "# EMBEDDINGS WITHOUT BOOKNLP"
   ]
  },
  {
   "cell_type": "code",
   "execution_count": 108,
   "id": "5c02ce04-4f89-44ec-a745-e038d6e79ccb",
   "metadata": {},
   "outputs": [],
   "source": [
    "df_non_booknlp = pd.read_csv('../data/GPT_EMBEDDINGS_1000_NONBOOKNLP_OUTPUT_MAIN.csv')\n",
    "df_non_booknlp.set_index('doc', inplace=True)"
   ]
  },
  {
   "cell_type": "code",
   "execution_count": 109,
   "id": "755d4d3d-658c-413b-a59a-4b8a3b565226",
   "metadata": {},
   "outputs": [],
   "source": [
    "df_merged_non_booknlp = pd.merge(df_non_booknlp, df, left_index=True, right_index=True, how='left')"
   ]
  },
  {
   "cell_type": "code",
   "execution_count": 110,
   "id": "8928e921-667b-4917-a2b3-fafaeee345fd",
   "metadata": {},
   "outputs": [
    {
     "data": {
      "application/vnd.jupyter.widget-view+json": {
       "model_id": "75402decf2a8475e8ff856d8347f9fc6",
       "version_major": 2,
       "version_minor": 0
      },
      "text/plain": [
       "  0%|          | 0/10 [00:00<?, ?it/s]"
      ]
     },
     "metadata": {},
     "output_type": "display_data"
    },
    {
     "name": "stdout",
     "output_type": "stream",
     "text": [
      "0.8170731707317073\n",
      "0.75\n",
      "0.7439024390243902\n",
      "0.7439024390243902\n",
      "0.8048780487804879\n",
      "0.8109756097560976\n",
      "0.7987804878048781\n",
      "0.7926829268292683\n",
      "0.8414634146341463\n",
      "0.8109756097560976\n",
      "0.7914634146341463\n"
     ]
    }
   ],
   "source": [
    "pipe_non_booknlp, acc_non_booknlp = classification(df_merged_non_booknlp)"
   ]
  },
  {
   "cell_type": "markdown",
   "id": "35af8920-a7a1-4aef-9e2e-17855b295cf5",
   "metadata": {},
   "source": [
    "# EMBEDDINGS 150 tokens WITHOUT BOOKNLP"
   ]
  },
  {
   "cell_type": "code",
   "execution_count": 114,
   "id": "0a6eacc9-750a-4a77-840d-a688e44c0a9a",
   "metadata": {},
   "outputs": [],
   "source": [
    "df_random_non_booknlp = pd.read_csv('GPT_EMBEDDINGS_1000_RANDOM_NONBOOKNLP_OUTPUT_MAIN.csv')\n",
    "df_random_non_booknlp.set_index('doc', inplace=True)"
   ]
  },
  {
   "cell_type": "code",
   "execution_count": 115,
   "id": "46aedd67-0b02-4926-851e-0557e8b1e998",
   "metadata": {},
   "outputs": [],
   "source": [
    "df_merged_random_non_booknlp = pd.merge(df_random_non_booknlp, df, left_index=True, right_index=True, how='left')"
   ]
  },
  {
   "cell_type": "code",
   "execution_count": 116,
   "id": "a40dcf4a-0aa6-4f1e-86b5-1002f7f49864",
   "metadata": {},
   "outputs": [
    {
     "data": {
      "application/vnd.jupyter.widget-view+json": {
       "model_id": "ca578b108eed493fa2ddc22a2dba7c7f",
       "version_major": 2,
       "version_minor": 0
      },
      "text/plain": [
       "  0%|          | 0/10 [00:00<?, ?it/s]"
      ]
     },
     "metadata": {},
     "output_type": "display_data"
    },
    {
     "name": "stdout",
     "output_type": "stream",
     "text": [
      "0.8170731707317073\n",
      "0.8475609756097561\n",
      "0.8048780487804879\n",
      "0.7804878048780488\n",
      "0.7682926829268293\n",
      "0.7378048780487805\n",
      "0.774390243902439\n",
      "0.7926829268292683\n",
      "0.8048780487804879\n",
      "0.8109756097560976\n",
      "0.7939024390243903\n"
     ]
    }
   ],
   "source": [
    "pipe_random_non_booknlp, acc_random_non_booknlp = classification(df_merged_non_booknlp)"
   ]
  },
  {
   "cell_type": "code",
   "execution_count": null,
   "id": "9ca7e94e-1ae9-4fbf-8677-9418e0f66557",
   "metadata": {},
   "outputs": [],
   "source": [
    "GPT_EMBEDDINGS_1000_RANDOM_NONBOOKNLP_OUTPUT_MAIN"
   ]
  }
 ],
 "metadata": {
  "kernelspec": {
   "display_name": "Python 3 (ipykernel)",
   "language": "python",
   "name": "python3"
  },
  "language_info": {
   "codemirror_mode": {
    "name": "ipython",
    "version": 3
   },
   "file_extension": ".py",
   "mimetype": "text/x-python",
   "name": "python",
   "nbconvert_exporter": "python",
   "pygments_lexer": "ipython3",
   "version": "3.10.12"
  }
 },
 "nbformat": 4,
 "nbformat_minor": 5
}
