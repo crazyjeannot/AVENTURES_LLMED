{
 "cells": [
  {
   "cell_type": "code",
   "execution_count": 62,
   "id": "b75be763-cc9c-49ad-a5d4-aa598cef60ce",
   "metadata": {},
   "outputs": [],
   "source": [
    "import pandas as pd\n",
    "import numpy as np\n",
    "from openai import OpenAI\n",
    "import joblib\n",
    "from tqdm.notebook import tqdm\n",
    "from glob import glob\n",
    "import pickle\n",
    "from os import path\n",
    "from unicodedata import normalize"
   ]
  },
  {
   "cell_type": "code",
   "execution_count": 97,
   "id": "75e29ecc-fde5-47b5-9023-c2aaa1e4312f",
   "metadata": {},
   "outputs": [],
   "source": [
    "path_name = '/home/crazyjeannot/Documents/doctorat/AVENTURES/corpus/1000_chunks_txt/*.txt'\n",
    "path_test = '/home/crazyjeannot/Documents/doctorat/AVENTURES/corpus/test_chunks_txt/*.txt'\n",
    "path_chunk = '/home/crazyjeannot/Documents/doctorat/AVENTURES/corpus/all_chunks_txt/1908_Rolland-Romain_Jean-Christophe_Tome-VII-Dans-la-maison.txt_chunk_43.txt'"
   ]
  },
  {
   "cell_type": "code",
   "execution_count": 48,
   "id": "262faf98-af7f-468f-9672-e188ceecb63d",
   "metadata": {},
   "outputs": [],
   "source": [
    "def clean_text(txt):\n",
    "    txt_res = normalize(\"NFKD\", txt).replace('\\xa0', ' ')\n",
    "    txt_res = txt_res.replace(\"\\\\\", \"\").replace('\\\\xa0', '')\n",
    "    return txt_res"
   ]
  },
  {
   "cell_type": "code",
   "execution_count": 104,
   "id": "c8e6c5a0-53fb-4a75-8c35-7fc6374e81da",
   "metadata": {},
   "outputs": [],
   "source": [
    "def gpt_stuff(chunk):\n",
    "\n",
    "    client = OpenAI(\n",
    "        api_key=\"[OPEN-AI-KEY]\",\n",
    "    )\n",
    "\n",
    "    instruction = \"Give me as an output only one word, if this text is typical of the adventure novels genre; write ADVENTURE; elif unsure; write NON_ADVENTURE. Prefer NON_ADVENTURE when unsure. HELP : adventure novels are characterized by the importance of change of scenery (historical/geographical/fantastical or social) and of violent action putting the hero in mortal danger or physical peril. Typical adventure scene : someone (described as brave/heroic) doing something dangerous in a heroic manner in a wild setting.\"\n",
    "\n",
    "    response = client.chat.completions.create(\n",
    "        messages=[\n",
    "            {\"role\": \"system\", \"content\": instruction},\n",
    "            {\"role\": \"user\", \"content\": chunk}\n",
    "        ],\n",
    "        model=\"gpt-3.5-turbo-1106\",\n",
    "        temperature=0.2,\n",
    "    )\n",
    "    \n",
    "    if response is not None:\n",
    "        completion = response.choices[0].message.content\n",
    "        return completion\n",
    "    else:\n",
    "        print(f'Error: Failed to get response')\n",
    "        return None"
   ]
  },
  {
   "cell_type": "code",
   "execution_count": 99,
   "id": "814b225c-dc9e-4411-96a5-af6b2fb088e9",
   "metadata": {},
   "outputs": [],
   "source": [
    "def get_labels(path_name):\n",
    "    df = pd.DataFrame(columns=['doc', 'label'])\n",
    "\n",
    "    for doc in tqdm(glob(path_name)):\n",
    "        doc_name = path.splitext(path.basename(doc))[0]\n",
    "        with open(doc, encoding=\"utf8\") as file:\n",
    "            text = file.readlines()\n",
    "            text_cleaned = clean_text(str(text).lower())\n",
    "\n",
    "            label = gpt_stuff(text_cleaned)\n",
    "\n",
    "            df = pd.concat([df, pd.DataFrame({'doc': [doc_name], 'label': [label]})])\n",
    "            df_temp = df.set_index('doc')\n",
    "            df_temp.to_csv('GPT_ANNOT_OUTPUT_TEMP.csv')\n",
    "    df.set_index('doc', inplace=True)\n",
    "    df.to_csv('GPT_ANNOT_OUTPUT_MAIN.csv')\n",
    "\n",
    "    return df\n"
   ]
  },
  {
   "cell_type": "code",
   "execution_count": 100,
   "id": "a2267910-c7f9-40e9-88e5-c5b5b3f45dac",
   "metadata": {},
   "outputs": [
    {
     "data": {
      "application/vnd.jupyter.widget-view+json": {
       "model_id": "24c9c3cd790545cca1e5369d3af9c13f",
       "version_major": 2,
       "version_minor": 0
      },
      "text/plain": [
       "  0%|          | 0/1000 [00:00<?, ?it/s]"
      ]
     },
     "metadata": {},
     "output_type": "display_data"
    }
   ],
   "source": [
    "df_labels = get_labels(path_name)"
   ]
  },
  {
   "cell_type": "code",
   "execution_count": 102,
   "id": "9f40f7f8-5948-429f-9eab-a7345faaea2a",
   "metadata": {},
   "outputs": [
    {
     "data": {
      "text/html": [
       "<div>\n",
       "<style scoped>\n",
       "    .dataframe tbody tr th:only-of-type {\n",
       "        vertical-align: middle;\n",
       "    }\n",
       "\n",
       "    .dataframe tbody tr th {\n",
       "        vertical-align: top;\n",
       "    }\n",
       "\n",
       "    .dataframe thead th {\n",
       "        text-align: right;\n",
       "    }\n",
       "</style>\n",
       "<table border=\"1\" class=\"dataframe\">\n",
       "  <thead>\n",
       "    <tr style=\"text-align: right;\">\n",
       "      <th></th>\n",
       "      <th>label</th>\n",
       "    </tr>\n",
       "    <tr>\n",
       "      <th>doc</th>\n",
       "      <th></th>\n",
       "    </tr>\n",
       "  </thead>\n",
       "  <tbody>\n",
       "    <tr>\n",
       "      <th>1847_Dumas-Alexandre_Les-Quarante-cinq.txt_chunk_198</th>\n",
       "      <td>ADVENTURE</td>\n",
       "    </tr>\n",
       "    <tr>\n",
       "      <th>1843_Sue-Eugene_Les-Mysteres-de-Paris_Tome-I.txt_chunk_44</th>\n",
       "      <td>NON_ADVENTURE</td>\n",
       "    </tr>\n",
       "    <tr>\n",
       "      <th>1880_Boussenard_Louis_Le-tour-du-monde-dun-gamin-de-Paris.txt_chunk_108</th>\n",
       "      <td>ADVENTURE</td>\n",
       "    </tr>\n",
       "    <tr>\n",
       "      <th>1879_Noir_Louis_Lhomme-de-bronze.txt_chunk_125</th>\n",
       "      <td>ADVENTURE</td>\n",
       "    </tr>\n",
       "    <tr>\n",
       "      <th>1925_Bazin-Rene_Le-ble-qui-leve.txt_chunk_39</th>\n",
       "      <td>NON_ADVENTURE</td>\n",
       "    </tr>\n",
       "    <tr>\n",
       "      <th>...</th>\n",
       "      <td>...</td>\n",
       "    </tr>\n",
       "    <tr>\n",
       "      <th>1865_Ponson-du-Terrail-Pierre_Le-Chambrion.txt_chunk_35</th>\n",
       "      <td>ADVENTURE</td>\n",
       "    </tr>\n",
       "    <tr>\n",
       "      <th>1885_Amero-Constant_Le-tour-de-France-d-un-petit-Parisien.txt_chunk_84</th>\n",
       "      <td>NON_ADVENTURE</td>\n",
       "    </tr>\n",
       "    <tr>\n",
       "      <th>1868_Feval-Paul_Les-habits-noirs_Tome-III-La-rue-de-Jerusalem.txt_chunk_63</th>\n",
       "      <td>NON_ADVENTURE</td>\n",
       "    </tr>\n",
       "    <tr>\n",
       "      <th>1872_Zola-Emile_La-curee.txt_chunk_71</th>\n",
       "      <td>NON_ADVENTURE</td>\n",
       "    </tr>\n",
       "    <tr>\n",
       "      <th>1843_Sue-Eugene_Les-Mysteres-de-Paris_Tome-IV.txt_chunk_83</th>\n",
       "      <td>ADVENTURE</td>\n",
       "    </tr>\n",
       "  </tbody>\n",
       "</table>\n",
       "<p>1000 rows × 1 columns</p>\n",
       "</div>"
      ],
      "text/plain": [
       "                                                            label\n",
       "doc                                                              \n",
       "1847_Dumas-Alexandre_Les-Quarante-cinq.txt_chun...      ADVENTURE\n",
       "1843_Sue-Eugene_Les-Mysteres-de-Paris_Tome-I.tx...  NON_ADVENTURE\n",
       "1880_Boussenard_Louis_Le-tour-du-monde-dun-gami...      ADVENTURE\n",
       "1879_Noir_Louis_Lhomme-de-bronze.txt_chunk_125          ADVENTURE\n",
       "1925_Bazin-Rene_Le-ble-qui-leve.txt_chunk_39        NON_ADVENTURE\n",
       "...                                                           ...\n",
       "1865_Ponson-du-Terrail-Pierre_Le-Chambrion.txt_...      ADVENTURE\n",
       "1885_Amero-Constant_Le-tour-de-France-d-un-peti...  NON_ADVENTURE\n",
       "1868_Feval-Paul_Les-habits-noirs_Tome-III-La-ru...  NON_ADVENTURE\n",
       "1872_Zola-Emile_La-curee.txt_chunk_71               NON_ADVENTURE\n",
       "1843_Sue-Eugene_Les-Mysteres-de-Paris_Tome-IV.t...      ADVENTURE\n",
       "\n",
       "[1000 rows x 1 columns]"
      ]
     },
     "execution_count": 102,
     "metadata": {},
     "output_type": "execute_result"
    }
   ],
   "source": [
    "df_labels"
   ]
  },
  {
   "cell_type": "code",
   "execution_count": 103,
   "id": "0c97bea7-4797-4683-985f-af7e08efe10b",
   "metadata": {},
   "outputs": [
    {
     "data": {
      "text/plain": [
       "label\n",
       "ADVENTURE        505\n",
       "NON_ADVENTURE    495\n",
       "Name: count, dtype: int64"
      ]
     },
     "execution_count": 103,
     "metadata": {},
     "output_type": "execute_result"
    }
   ],
   "source": [
    "df_labels.label.value_counts()"
   ]
  },
  {
   "cell_type": "code",
   "execution_count": null,
   "id": "7584a5ec-ccee-4859-9feb-90b8ee50d6ce",
   "metadata": {},
   "outputs": [],
   "source": []
  }
 ],
 "metadata": {
  "kernelspec": {
   "display_name": "Python 3 (ipykernel)",
   "language": "python",
   "name": "python3"
  },
  "language_info": {
   "codemirror_mode": {
    "name": "ipython",
    "version": 3
   },
   "file_extension": ".py",
   "mimetype": "text/x-python",
   "name": "python",
   "nbconvert_exporter": "python",
   "pygments_lexer": "ipython3",
   "version": "3.10.12"
  }
 },
 "nbformat": 4,
 "nbformat_minor": 5
}
