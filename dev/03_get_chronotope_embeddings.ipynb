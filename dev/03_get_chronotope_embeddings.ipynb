{
 "cells": [
  {
   "cell_type": "code",
   "execution_count": 2,
   "id": "98cf4843-c404-464b-affc-fb6e67995dfb",
   "metadata": {},
   "outputs": [],
   "source": [
    "import pandas as pd\n",
    "import numpy as np\n",
    "from openai import OpenAI\n",
    "import joblib\n",
    "from tqdm.notebook import tqdm\n",
    "from glob import glob\n",
    "import random\n",
    "import json\n",
    "from os import path, listdir"
   ]
  },
  {
   "cell_type": "code",
   "execution_count": 3,
   "id": "48fee850-13c4-40a6-8890-af9986698aa0",
   "metadata": {},
   "outputs": [],
   "source": [
    "path_dir = '/home/crazyjeannot/Documents/doctorat/AVENTURES/data/booknlp/BOOKNLP_ENTITIES/'\n",
    "path_test = '/home/crazyjeannot/Documents/doctorat/AVENTURES/data/booknlp/BOOKNLP_TEST/BOOKNLP_ENTITIES_TEST/'\n",
    "\n",
    "path_entities = '/home/crazyjeannot/Documents/doctorat/AVENTURES/data/booknlp/BOOKNLP_ENTITIES/*.entities'\n",
    "path_test_entities = '/home/crazyjeannot/Documents/doctorat/AVENTURES/data/booknlp/BOOKNLP_TEST/BOOKNLP_ENTITIES_TEST/*.entities'\n",
    "path_chunk_entities = '/home/crazyjeannot/Documents/doctorat/AVENTURES/data/booknlp/BOOKNLP_TEST/1830_Sue-Eugene_Kernok-le-Pirate.txt_chunk_0.entities'\n",
    "\n",
    "path_book = '/home/crazyjeannot/Documents/doctorat/AVENTURES/data/booknlp/BOOKNLP_BOOK/*.book'\n",
    "path_test_book = '/home/crazyjeannot/Documents/doctorat/AVENTURES/data/booknlp/BOOKNLP_TEST/BOOKNLP_BOOK_TEST/*.book'\n",
    "path_chunk_book = '/home/crazyjeannot/Documents/doctorat/AVENTURES/data/booknlp/BOOKNLP_TEST/1830_Sue-Eugene_Kernok-le-Pirate.txt_chunk_0.book'"
   ]
  },
  {
   "cell_type": "code",
   "execution_count": 4,
   "id": "001c7dd9-b666-4197-a02b-00488b89036e",
   "metadata": {},
   "outputs": [],
   "source": [
    "def gpt_embeddings(chunk):\n",
    "    client = OpenAI(\n",
    "        api_key=\"[OPEN-AI-KEY]\",\n",
    "    )\n",
    "\n",
    "    text = chunk.replace(\"\\n\", \" \")\n",
    "    embedding = client.embeddings.create(input = [text], model=\"text-embedding-ada-002\").data[0].embedding\n",
    "    \n",
    "    return embedding"
   ]
  },
  {
   "cell_type": "code",
   "execution_count": 5,
   "id": "6cad4890-fa60-4419-9111-236528d7e555",
   "metadata": {},
   "outputs": [],
   "source": [
    "def get_characterization(booknlp_data):\n",
    "    list_main = []\n",
    "    for i in range(len(booknlp_data[\"characters\"])):\n",
    "        list_main.extend([item['w'] for item in booknlp_data[\"characters\"][i]['agent']])\n",
    "        list_main.extend([item['w'] for item in booknlp_data[\"characters\"][i]['patient']])\n",
    "        list_main.extend([item['w'] for item in booknlp_data[\"characters\"][i]['mod']])\n",
    "    return list_main"
   ]
  },
  {
   "cell_type": "code",
   "execution_count": 6,
   "id": "dd33d6d2-22c2-43ec-a5e8-5266b0cbf13d",
   "metadata": {},
   "outputs": [],
   "source": [
    "def get_embeddings(path_entities, path_book):\n",
    "    categories_to_filter = ['GPE', 'LOC', 'VEH', 'TIME', 'FAC']\n",
    "    columns_df = ['doc']+[i for i in range(0,1536)]\n",
    "    df_main = pd.DataFrame(columns=columns_df)\n",
    "\n",
    "    entities_files = sorted(glob(path_entities))\n",
    "    book_files = sorted(glob(path_book))\n",
    "    \n",
    "    for doc_entities, doc_book in tqdm(zip(entities_files, book_files), total=len(listdir(path_dir))):\n",
    "        file_entities = path.splitext(path.basename(doc_entities))[0]\n",
    "        file_book = path.splitext(path.basename(doc_book))[0]\n",
    "        \n",
    "        if  file_entities == file_book:\n",
    "        \n",
    "            # GET ENTITIES / CHRONOTOPE\n",
    "            df_entities = pd.read_csv(doc_entities, delimiter=\"\\t\")            \n",
    "            df_chronotope = df_entities[df_entities['cat'].isin(categories_to_filter)]\n",
    "            chronotope = list(df_chronotope.text)\n",
    "\n",
    "            # GET CHARACTERIZATION\n",
    "            with open(doc_book, \"r\") as booknlp_book:\n",
    "                book_data = json.load(booknlp_book)\n",
    "                characterization = get_characterization(book_data)\n",
    "\n",
    "        else: \n",
    "            print(doc_entities)\n",
    "            print(doc_book)\n",
    "            print(\"NOT THE SAME FILE\")\n",
    "            break\n",
    "            \n",
    "        #print(f\"len characterization = {len(characterization)}, len chronotope = {len(chronotope)}\")\n",
    "\n",
    "        characterization.extend(chronotope)\n",
    "        random.shuffle(characterization)\n",
    "\n",
    "        booknlp_str = ' '.join(characterization)\n",
    "        embedding = gpt_embeddings(booknlp_str)\n",
    "            \n",
    "        new_row_data = [file_entities] + embedding    \n",
    "        new_row_df = pd.DataFrame([new_row_data], columns=columns_df)\n",
    "            \n",
    "        df_main = pd.concat([df_main, new_row_df], ignore_index=True)            \n",
    "            \n",
    "        df_temp = df_main.set_index('doc')       \n",
    "        df_temp.to_csv('GPT_EMBEDDINGS_BOOKNLP_OUTPUT_TEMP.csv')\n",
    "    \n",
    "    df_main.set_index('doc', inplace=True)\n",
    "    df_main.to_csv('GPT_EMBEDDINGS_BOOKNLP_OUTPUT_MAIN.csv')\n",
    "    \n",
    "    return df_main"
   ]
  },
  {
   "cell_type": "code",
   "execution_count": null,
   "id": "18d2d98b-a856-4ac8-9a14-1fa5bee1980d",
   "metadata": {},
   "outputs": [],
   "source": [
    "df_res = get_embeddings(path_entities, path_book)"
   ]
  },
  {
   "cell_type": "code",
   "execution_count": null,
   "id": "812f7cbd-91f6-4f9a-a268-950f75881e25",
   "metadata": {},
   "outputs": [],
   "source": [
    "df_res"
   ]
  },
  {
   "cell_type": "code",
   "execution_count": 7,
   "id": "9cb5328f-1db2-4bc0-a077-b330c8fc63a3",
   "metadata": {},
   "outputs": [],
   "source": [
    "df = pd.read_csv('GPT_EMBEDDINGS_BOOKNLP_OUTPUT_TEMP.csv')"
   ]
  },
  {
   "cell_type": "code",
   "execution_count": null,
   "id": "c74de2fe-4b2d-4700-8863-c64a566535ab",
   "metadata": {},
   "outputs": [],
   "source": []
  }
 ],
 "metadata": {
  "kernelspec": {
   "display_name": "Python 3 (ipykernel)",
   "language": "python",
   "name": "python3"
  },
  "language_info": {
   "codemirror_mode": {
    "name": "ipython",
    "version": 3
   },
   "file_extension": ".py",
   "mimetype": "text/x-python",
   "name": "python",
   "nbconvert_exporter": "python",
   "pygments_lexer": "ipython3",
   "version": "3.10.12"
  }
 },
 "nbformat": 4,
 "nbformat_minor": 5
}
